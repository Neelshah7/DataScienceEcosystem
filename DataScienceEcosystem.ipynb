{
  "nbformat": 4,
  "nbformat_minor": 0,
  "metadata": {
    "colab": {
      "provenance": []
    },
    "kernelspec": {
      "name": "python3",
      "display_name": "Python 3"
    },
    "language_info": {
      "name": "python"
    }
  },
  "cells": [
    {
      "cell_type": "markdown",
      "source": [
        "# Data Science Tools and Ecosystem\n"
      ],
      "metadata": {
        "id": "cIMM7pf_xJSn"
      }
    },
    {
      "cell_type": "markdown",
      "source": [
        "In this notebook, Data Science Tools and Ecosystem are summarized.\n"
      ],
      "metadata": {
        "id": "ZBZ2pJV5xMgJ"
      }
    },
    {
      "cell_type": "markdown",
      "source": [
        "**Objectives:**\n",
        "- List popular languages for Data Science\n",
        "- List commonly used libraries for Data Science\n",
        "- Create tables and lists in markdown\n",
        "- Perform basic arithmetic operations in Python\n",
        "- Share Jupyter Notebooks via GitHub\n"
      ],
      "metadata": {
        "id": "8qXZGk7pxPMM"
      }
    },
    {
      "cell_type": "markdown",
      "source": [
        "Some of the popular languages that Data Scientists use are:\n",
        "1. Python\n",
        "2. R\n",
        "3. SQL\n",
        "4. Julia\n"
      ],
      "metadata": {
        "id": "bJYZ62mlxRx5"
      }
    },
    {
      "cell_type": "markdown",
      "source": [
        "Some of the commonly used libraries used by Data Scientists include:\n",
        "1. Pandas\n",
        "2. NumPy\n",
        "3. Matplotlib\n",
        "4. Scikit-learn\n"
      ],
      "metadata": {
        "id": "nuuXY0lSxUTQ"
      }
    },
    {
      "cell_type": "markdown",
      "source": [
        "| Data Science Tools         |\n",
        "|----------------------------|\n",
        "| Jupyter Notebook           |\n",
        "| RStudio                    |\n",
        "| Apache Zeppelin            |\n"
      ],
      "metadata": {
        "id": "STeLvWJmxWnz"
      }
    },
    {
      "cell_type": "markdown",
      "source": [
        "### Below are a few examples of evaluating arithmetic expressions in Python."
      ],
      "metadata": {
        "id": "sFxyA0Pp5M3Y"
      }
    },
    {
      "cell_type": "code",
      "source": [
        "# This is a simple arithmetic expression to multiply then add integers\n",
        "(3*4)+5\n"
      ],
      "metadata": {
        "colab": {
          "base_uri": "https://localhost:8080/"
        },
        "id": "LABXuMbRxfMG",
        "outputId": "08ff6aea-c923-4f18-a05a-c53b89c20471"
      },
      "execution_count": 1,
      "outputs": [
        {
          "output_type": "execute_result",
          "data": {
            "text/plain": [
              "17"
            ]
          },
          "metadata": {},
          "execution_count": 1
        }
      ]
    },
    {
      "cell_type": "code",
      "execution_count": 2,
      "metadata": {
        "colab": {
          "base_uri": "https://localhost:8080/"
        },
        "id": "_w4MkFXJxAe_",
        "outputId": "fce53966-acd0-419b-f0c7-5f154d3a425b"
      },
      "outputs": [
        {
          "output_type": "execute_result",
          "data": {
            "text/plain": [
              "3.3333333333333335"
            ]
          },
          "metadata": {},
          "execution_count": 2
        }
      ],
      "source": [
        "# This will convert 200 minutes to hours by dividing by 60\n",
        "200 / 60\n"
      ]
    },
    {
      "cell_type": "markdown",
      "source": [
        "## Author\n",
        "Neel Shah\n"
      ],
      "metadata": {
        "id": "2WPiMwgLxl_x"
      }
    }
  ]
}